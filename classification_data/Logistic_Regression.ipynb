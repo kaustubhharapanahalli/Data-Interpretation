{
 "cells": [
  {
   "cell_type": "code",
   "execution_count": 1,
   "metadata": {},
   "outputs": [],
   "source": [
    "import pandas as pd"
   ]
  },
  {
   "cell_type": "markdown",
   "metadata": {},
   "source": [
    "### Gender voice dataset\n",
    "#### Source : https://www.mldata.io/dataset-details/gender_voice/\n",
    "meanfreq\t-\tmean frequency (in kHz)\n",
    "\n",
    "sd\t        -\tstandard deviation of frequency\n",
    "\n",
    "median   \t- median frequency (in kHz)\n",
    "\n",
    "IQR\t        -\tinterquantile range (in kHz)\n",
    "\n",
    "sp.ent\t    -\tspectral entropy\n",
    "\n",
    "centroid\t-\tfrequency centroid (see specprop)\n",
    "\n",
    "minfun\t    -\tminimum fundamental frequency measured across acoustic signal\n",
    "\n",
    "label\t    -\tPredictor class, male or female"
   ]
  },
  {
   "cell_type": "code",
   "execution_count": 2,
   "metadata": {},
   "outputs": [
    {
     "data": {
      "text/html": [
       "<div>\n",
       "<style scoped>\n",
       "    .dataframe tbody tr th:only-of-type {\n",
       "        vertical-align: middle;\n",
       "    }\n",
       "\n",
       "    .dataframe tbody tr th {\n",
       "        vertical-align: top;\n",
       "    }\n",
       "\n",
       "    .dataframe thead th {\n",
       "        text-align: right;\n",
       "    }\n",
       "</style>\n",
       "<table border=\"1\" class=\"dataframe\">\n",
       "  <thead>\n",
       "    <tr style=\"text-align: right;\">\n",
       "      <th></th>\n",
       "      <th>meanfreq</th>\n",
       "      <th>sd</th>\n",
       "      <th>median</th>\n",
       "      <th>Q25</th>\n",
       "      <th>Q75</th>\n",
       "      <th>IQR</th>\n",
       "      <th>skew</th>\n",
       "      <th>kurt</th>\n",
       "      <th>sp.ent</th>\n",
       "      <th>sfm</th>\n",
       "      <th>...</th>\n",
       "      <th>centroid</th>\n",
       "      <th>meanfun</th>\n",
       "      <th>minfun</th>\n",
       "      <th>maxfun</th>\n",
       "      <th>meandom</th>\n",
       "      <th>mindom</th>\n",
       "      <th>maxdom</th>\n",
       "      <th>dfrange</th>\n",
       "      <th>modindx</th>\n",
       "      <th>label</th>\n",
       "    </tr>\n",
       "  </thead>\n",
       "  <tbody>\n",
       "    <tr>\n",
       "      <th>3026</th>\n",
       "      <td>0.217800</td>\n",
       "      <td>0.045799</td>\n",
       "      <td>0.224264</td>\n",
       "      <td>0.204146</td>\n",
       "      <td>0.242403</td>\n",
       "      <td>0.038257</td>\n",
       "      <td>2.175078</td>\n",
       "      <td>7.668994</td>\n",
       "      <td>0.868693</td>\n",
       "      <td>0.256959</td>\n",
       "      <td>...</td>\n",
       "      <td>0.217800</td>\n",
       "      <td>0.223417</td>\n",
       "      <td>0.013021</td>\n",
       "      <td>0.277778</td>\n",
       "      <td>0.517782</td>\n",
       "      <td>0.214844</td>\n",
       "      <td>0.825195</td>\n",
       "      <td>0.610352</td>\n",
       "      <td>0.435556</td>\n",
       "      <td>female</td>\n",
       "    </tr>\n",
       "    <tr>\n",
       "      <th>930</th>\n",
       "      <td>0.204075</td>\n",
       "      <td>0.063821</td>\n",
       "      <td>0.232946</td>\n",
       "      <td>0.137676</td>\n",
       "      <td>0.266639</td>\n",
       "      <td>0.128963</td>\n",
       "      <td>2.473283</td>\n",
       "      <td>9.679929</td>\n",
       "      <td>0.857613</td>\n",
       "      <td>0.255776</td>\n",
       "      <td>...</td>\n",
       "      <td>0.204075</td>\n",
       "      <td>0.129990</td>\n",
       "      <td>0.047105</td>\n",
       "      <td>0.279070</td>\n",
       "      <td>1.614509</td>\n",
       "      <td>0.023438</td>\n",
       "      <td>7.757812</td>\n",
       "      <td>7.734375</td>\n",
       "      <td>0.116383</td>\n",
       "      <td>male</td>\n",
       "    </tr>\n",
       "    <tr>\n",
       "      <th>1646</th>\n",
       "      <td>0.187574</td>\n",
       "      <td>0.070237</td>\n",
       "      <td>0.207055</td>\n",
       "      <td>0.167638</td>\n",
       "      <td>0.233333</td>\n",
       "      <td>0.065696</td>\n",
       "      <td>1.802315</td>\n",
       "      <td>6.418796</td>\n",
       "      <td>0.942977</td>\n",
       "      <td>0.611413</td>\n",
       "      <td>...</td>\n",
       "      <td>0.187574</td>\n",
       "      <td>0.157452</td>\n",
       "      <td>0.016227</td>\n",
       "      <td>0.258065</td>\n",
       "      <td>0.491160</td>\n",
       "      <td>0.007812</td>\n",
       "      <td>3.679688</td>\n",
       "      <td>3.671875</td>\n",
       "      <td>0.139939</td>\n",
       "      <td>female</td>\n",
       "    </tr>\n",
       "    <tr>\n",
       "      <th>3011</th>\n",
       "      <td>0.189334</td>\n",
       "      <td>0.042641</td>\n",
       "      <td>0.193546</td>\n",
       "      <td>0.185737</td>\n",
       "      <td>0.202470</td>\n",
       "      <td>0.016733</td>\n",
       "      <td>4.316062</td>\n",
       "      <td>24.334520</td>\n",
       "      <td>0.831070</td>\n",
       "      <td>0.289890</td>\n",
       "      <td>...</td>\n",
       "      <td>0.189334</td>\n",
       "      <td>0.190996</td>\n",
       "      <td>0.095238</td>\n",
       "      <td>0.277778</td>\n",
       "      <td>0.476393</td>\n",
       "      <td>0.195312</td>\n",
       "      <td>0.786133</td>\n",
       "      <td>0.590820</td>\n",
       "      <td>0.857764</td>\n",
       "      <td>female</td>\n",
       "    </tr>\n",
       "    <tr>\n",
       "      <th>1430</th>\n",
       "      <td>0.186409</td>\n",
       "      <td>0.062359</td>\n",
       "      <td>0.186667</td>\n",
       "      <td>0.151610</td>\n",
       "      <td>0.240390</td>\n",
       "      <td>0.088780</td>\n",
       "      <td>1.341256</td>\n",
       "      <td>4.977692</td>\n",
       "      <td>0.926570</td>\n",
       "      <td>0.459924</td>\n",
       "      <td>...</td>\n",
       "      <td>0.186409</td>\n",
       "      <td>0.125811</td>\n",
       "      <td>0.048048</td>\n",
       "      <td>0.279070</td>\n",
       "      <td>1.100565</td>\n",
       "      <td>0.023438</td>\n",
       "      <td>5.882812</td>\n",
       "      <td>5.859375</td>\n",
       "      <td>0.159721</td>\n",
       "      <td>male</td>\n",
       "    </tr>\n",
       "    <tr>\n",
       "      <th>1985</th>\n",
       "      <td>0.208832</td>\n",
       "      <td>0.032900</td>\n",
       "      <td>0.218005</td>\n",
       "      <td>0.185985</td>\n",
       "      <td>0.228905</td>\n",
       "      <td>0.042920</td>\n",
       "      <td>2.802764</td>\n",
       "      <td>12.123847</td>\n",
       "      <td>0.860854</td>\n",
       "      <td>0.171976</td>\n",
       "      <td>...</td>\n",
       "      <td>0.208832</td>\n",
       "      <td>0.178801</td>\n",
       "      <td>0.030651</td>\n",
       "      <td>0.242424</td>\n",
       "      <td>0.693954</td>\n",
       "      <td>0.164062</td>\n",
       "      <td>3.585938</td>\n",
       "      <td>3.421875</td>\n",
       "      <td>0.186127</td>\n",
       "      <td>female</td>\n",
       "    </tr>\n",
       "    <tr>\n",
       "      <th>447</th>\n",
       "      <td>0.175614</td>\n",
       "      <td>0.062980</td>\n",
       "      <td>0.200000</td>\n",
       "      <td>0.119661</td>\n",
       "      <td>0.220000</td>\n",
       "      <td>0.100339</td>\n",
       "      <td>2.623436</td>\n",
       "      <td>11.399692</td>\n",
       "      <td>0.922511</td>\n",
       "      <td>0.558088</td>\n",
       "      <td>...</td>\n",
       "      <td>0.175614</td>\n",
       "      <td>0.107824</td>\n",
       "      <td>0.040000</td>\n",
       "      <td>0.150943</td>\n",
       "      <td>1.000679</td>\n",
       "      <td>0.156250</td>\n",
       "      <td>5.132812</td>\n",
       "      <td>4.976562</td>\n",
       "      <td>0.156843</td>\n",
       "      <td>male</td>\n",
       "    </tr>\n",
       "    <tr>\n",
       "      <th>2179</th>\n",
       "      <td>0.193274</td>\n",
       "      <td>0.045981</td>\n",
       "      <td>0.193812</td>\n",
       "      <td>0.174125</td>\n",
       "      <td>0.224000</td>\n",
       "      <td>0.049875</td>\n",
       "      <td>2.426061</td>\n",
       "      <td>9.966641</td>\n",
       "      <td>0.885397</td>\n",
       "      <td>0.367165</td>\n",
       "      <td>...</td>\n",
       "      <td>0.193274</td>\n",
       "      <td>0.164968</td>\n",
       "      <td>0.047761</td>\n",
       "      <td>0.266667</td>\n",
       "      <td>0.808594</td>\n",
       "      <td>0.023438</td>\n",
       "      <td>4.078125</td>\n",
       "      <td>4.054688</td>\n",
       "      <td>0.126264</td>\n",
       "      <td>female</td>\n",
       "    </tr>\n",
       "    <tr>\n",
       "      <th>2430</th>\n",
       "      <td>0.224762</td>\n",
       "      <td>0.040429</td>\n",
       "      <td>0.233128</td>\n",
       "      <td>0.190367</td>\n",
       "      <td>0.258209</td>\n",
       "      <td>0.067841</td>\n",
       "      <td>2.375186</td>\n",
       "      <td>8.714715</td>\n",
       "      <td>0.835932</td>\n",
       "      <td>0.171572</td>\n",
       "      <td>...</td>\n",
       "      <td>0.224762</td>\n",
       "      <td>0.188755</td>\n",
       "      <td>0.051836</td>\n",
       "      <td>0.277457</td>\n",
       "      <td>2.156250</td>\n",
       "      <td>0.210938</td>\n",
       "      <td>9.421875</td>\n",
       "      <td>9.210938</td>\n",
       "      <td>0.210699</td>\n",
       "      <td>female</td>\n",
       "    </tr>\n",
       "    <tr>\n",
       "      <th>1994</th>\n",
       "      <td>0.191765</td>\n",
       "      <td>0.067263</td>\n",
       "      <td>0.213502</td>\n",
       "      <td>0.180869</td>\n",
       "      <td>0.240594</td>\n",
       "      <td>0.059725</td>\n",
       "      <td>2.522097</td>\n",
       "      <td>10.465945</td>\n",
       "      <td>0.925769</td>\n",
       "      <td>0.560213</td>\n",
       "      <td>...</td>\n",
       "      <td>0.191765</td>\n",
       "      <td>0.187180</td>\n",
       "      <td>0.016563</td>\n",
       "      <td>0.266667</td>\n",
       "      <td>0.354687</td>\n",
       "      <td>0.007812</td>\n",
       "      <td>4.859375</td>\n",
       "      <td>4.851562</td>\n",
       "      <td>0.074697</td>\n",
       "      <td>female</td>\n",
       "    </tr>\n",
       "  </tbody>\n",
       "</table>\n",
       "<p>10 rows × 21 columns</p>\n",
       "</div>"
      ],
      "text/plain": [
       "      meanfreq        sd    median       Q25       Q75       IQR      skew  \\\n",
       "3026  0.217800  0.045799  0.224264  0.204146  0.242403  0.038257  2.175078   \n",
       "930   0.204075  0.063821  0.232946  0.137676  0.266639  0.128963  2.473283   \n",
       "1646  0.187574  0.070237  0.207055  0.167638  0.233333  0.065696  1.802315   \n",
       "3011  0.189334  0.042641  0.193546  0.185737  0.202470  0.016733  4.316062   \n",
       "1430  0.186409  0.062359  0.186667  0.151610  0.240390  0.088780  1.341256   \n",
       "1985  0.208832  0.032900  0.218005  0.185985  0.228905  0.042920  2.802764   \n",
       "447   0.175614  0.062980  0.200000  0.119661  0.220000  0.100339  2.623436   \n",
       "2179  0.193274  0.045981  0.193812  0.174125  0.224000  0.049875  2.426061   \n",
       "2430  0.224762  0.040429  0.233128  0.190367  0.258209  0.067841  2.375186   \n",
       "1994  0.191765  0.067263  0.213502  0.180869  0.240594  0.059725  2.522097   \n",
       "\n",
       "           kurt    sp.ent       sfm  ...  centroid   meanfun    minfun  \\\n",
       "3026   7.668994  0.868693  0.256959  ...  0.217800  0.223417  0.013021   \n",
       "930    9.679929  0.857613  0.255776  ...  0.204075  0.129990  0.047105   \n",
       "1646   6.418796  0.942977  0.611413  ...  0.187574  0.157452  0.016227   \n",
       "3011  24.334520  0.831070  0.289890  ...  0.189334  0.190996  0.095238   \n",
       "1430   4.977692  0.926570  0.459924  ...  0.186409  0.125811  0.048048   \n",
       "1985  12.123847  0.860854  0.171976  ...  0.208832  0.178801  0.030651   \n",
       "447   11.399692  0.922511  0.558088  ...  0.175614  0.107824  0.040000   \n",
       "2179   9.966641  0.885397  0.367165  ...  0.193274  0.164968  0.047761   \n",
       "2430   8.714715  0.835932  0.171572  ...  0.224762  0.188755  0.051836   \n",
       "1994  10.465945  0.925769  0.560213  ...  0.191765  0.187180  0.016563   \n",
       "\n",
       "        maxfun   meandom    mindom    maxdom   dfrange   modindx   label  \n",
       "3026  0.277778  0.517782  0.214844  0.825195  0.610352  0.435556  female  \n",
       "930   0.279070  1.614509  0.023438  7.757812  7.734375  0.116383    male  \n",
       "1646  0.258065  0.491160  0.007812  3.679688  3.671875  0.139939  female  \n",
       "3011  0.277778  0.476393  0.195312  0.786133  0.590820  0.857764  female  \n",
       "1430  0.279070  1.100565  0.023438  5.882812  5.859375  0.159721    male  \n",
       "1985  0.242424  0.693954  0.164062  3.585938  3.421875  0.186127  female  \n",
       "447   0.150943  1.000679  0.156250  5.132812  4.976562  0.156843    male  \n",
       "2179  0.266667  0.808594  0.023438  4.078125  4.054688  0.126264  female  \n",
       "2430  0.277457  2.156250  0.210938  9.421875  9.210938  0.210699  female  \n",
       "1994  0.266667  0.354687  0.007812  4.859375  4.851562  0.074697  female  \n",
       "\n",
       "[10 rows x 21 columns]"
      ]
     },
     "execution_count": 2,
     "metadata": {},
     "output_type": "execute_result"
    }
   ],
   "source": [
    "data = pd.read_csv('../datasets/gender_voice_dataset.csv')\n",
    "\n",
    "data.sample(10)"
   ]
  },
  {
   "cell_type": "code",
   "execution_count": 3,
   "metadata": {},
   "outputs": [
    {
     "data": {
      "text/html": [
       "<div>\n",
       "<style scoped>\n",
       "    .dataframe tbody tr th:only-of-type {\n",
       "        vertical-align: middle;\n",
       "    }\n",
       "\n",
       "    .dataframe tbody tr th {\n",
       "        vertical-align: top;\n",
       "    }\n",
       "\n",
       "    .dataframe thead th {\n",
       "        text-align: right;\n",
       "    }\n",
       "</style>\n",
       "<table border=\"1\" class=\"dataframe\">\n",
       "  <thead>\n",
       "    <tr style=\"text-align: right;\">\n",
       "      <th></th>\n",
       "      <th>label</th>\n",
       "    </tr>\n",
       "  </thead>\n",
       "  <tbody>\n",
       "    <tr>\n",
       "      <th>2469</th>\n",
       "      <td>female</td>\n",
       "    </tr>\n",
       "    <tr>\n",
       "      <th>1511</th>\n",
       "      <td>male</td>\n",
       "    </tr>\n",
       "    <tr>\n",
       "      <th>2427</th>\n",
       "      <td>female</td>\n",
       "    </tr>\n",
       "    <tr>\n",
       "      <th>2713</th>\n",
       "      <td>female</td>\n",
       "    </tr>\n",
       "    <tr>\n",
       "      <th>3016</th>\n",
       "      <td>female</td>\n",
       "    </tr>\n",
       "    <tr>\n",
       "      <th>1538</th>\n",
       "      <td>male</td>\n",
       "    </tr>\n",
       "    <tr>\n",
       "      <th>1214</th>\n",
       "      <td>male</td>\n",
       "    </tr>\n",
       "    <tr>\n",
       "      <th>2752</th>\n",
       "      <td>female</td>\n",
       "    </tr>\n",
       "    <tr>\n",
       "      <th>2486</th>\n",
       "      <td>female</td>\n",
       "    </tr>\n",
       "    <tr>\n",
       "      <th>1722</th>\n",
       "      <td>female</td>\n",
       "    </tr>\n",
       "  </tbody>\n",
       "</table>\n",
       "</div>"
      ],
      "text/plain": [
       "       label\n",
       "2469  female\n",
       "1511    male\n",
       "2427  female\n",
       "2713  female\n",
       "3016  female\n",
       "1538    male\n",
       "1214    male\n",
       "2752  female\n",
       "2486  female\n",
       "1722  female"
      ]
     },
     "execution_count": 3,
     "metadata": {},
     "output_type": "execute_result"
    }
   ],
   "source": [
    "data[['label']].sample(10)"
   ]
  },
  {
   "cell_type": "code",
   "execution_count": 4,
   "metadata": {},
   "outputs": [
    {
     "data": {
      "text/plain": [
       "(3168, 21)"
      ]
     },
     "execution_count": 4,
     "metadata": {},
     "output_type": "execute_result"
    }
   ],
   "source": [
    "data.shape"
   ]
  },
  {
   "cell_type": "markdown",
   "metadata": {},
   "source": [
    "### Describing values"
   ]
  },
  {
   "cell_type": "code",
   "execution_count": 5,
   "metadata": {},
   "outputs": [
    {
     "data": {
      "text/html": [
       "<div>\n",
       "<style scoped>\n",
       "    .dataframe tbody tr th:only-of-type {\n",
       "        vertical-align: middle;\n",
       "    }\n",
       "\n",
       "    .dataframe tbody tr th {\n",
       "        vertical-align: top;\n",
       "    }\n",
       "\n",
       "    .dataframe thead th {\n",
       "        text-align: right;\n",
       "    }\n",
       "</style>\n",
       "<table border=\"1\" class=\"dataframe\">\n",
       "  <thead>\n",
       "    <tr style=\"text-align: right;\">\n",
       "      <th></th>\n",
       "      <th>count</th>\n",
       "      <th>mean</th>\n",
       "      <th>std</th>\n",
       "      <th>min</th>\n",
       "      <th>25%</th>\n",
       "      <th>50%</th>\n",
       "      <th>75%</th>\n",
       "      <th>max</th>\n",
       "    </tr>\n",
       "  </thead>\n",
       "  <tbody>\n",
       "    <tr>\n",
       "      <th>meanfreq</th>\n",
       "      <td>3168.0</td>\n",
       "      <td>0.180907</td>\n",
       "      <td>0.029918</td>\n",
       "      <td>0.039363</td>\n",
       "      <td>0.163662</td>\n",
       "      <td>0.184838</td>\n",
       "      <td>0.199146</td>\n",
       "      <td>0.251124</td>\n",
       "    </tr>\n",
       "    <tr>\n",
       "      <th>sd</th>\n",
       "      <td>3168.0</td>\n",
       "      <td>0.057126</td>\n",
       "      <td>0.016652</td>\n",
       "      <td>0.018363</td>\n",
       "      <td>0.041954</td>\n",
       "      <td>0.059155</td>\n",
       "      <td>0.067020</td>\n",
       "      <td>0.115273</td>\n",
       "    </tr>\n",
       "    <tr>\n",
       "      <th>median</th>\n",
       "      <td>3168.0</td>\n",
       "      <td>0.185621</td>\n",
       "      <td>0.036360</td>\n",
       "      <td>0.010975</td>\n",
       "      <td>0.169593</td>\n",
       "      <td>0.190032</td>\n",
       "      <td>0.210618</td>\n",
       "      <td>0.261224</td>\n",
       "    </tr>\n",
       "    <tr>\n",
       "      <th>Q25</th>\n",
       "      <td>3168.0</td>\n",
       "      <td>0.140456</td>\n",
       "      <td>0.048680</td>\n",
       "      <td>0.000229</td>\n",
       "      <td>0.111087</td>\n",
       "      <td>0.140286</td>\n",
       "      <td>0.175939</td>\n",
       "      <td>0.247347</td>\n",
       "    </tr>\n",
       "    <tr>\n",
       "      <th>Q75</th>\n",
       "      <td>3168.0</td>\n",
       "      <td>0.224765</td>\n",
       "      <td>0.023639</td>\n",
       "      <td>0.042946</td>\n",
       "      <td>0.208747</td>\n",
       "      <td>0.225684</td>\n",
       "      <td>0.243660</td>\n",
       "      <td>0.273469</td>\n",
       "    </tr>\n",
       "    <tr>\n",
       "      <th>IQR</th>\n",
       "      <td>3168.0</td>\n",
       "      <td>0.084309</td>\n",
       "      <td>0.042783</td>\n",
       "      <td>0.014558</td>\n",
       "      <td>0.042560</td>\n",
       "      <td>0.094280</td>\n",
       "      <td>0.114175</td>\n",
       "      <td>0.252225</td>\n",
       "    </tr>\n",
       "    <tr>\n",
       "      <th>skew</th>\n",
       "      <td>3168.0</td>\n",
       "      <td>3.140168</td>\n",
       "      <td>4.240529</td>\n",
       "      <td>0.141735</td>\n",
       "      <td>1.649569</td>\n",
       "      <td>2.197101</td>\n",
       "      <td>2.931694</td>\n",
       "      <td>34.725453</td>\n",
       "    </tr>\n",
       "    <tr>\n",
       "      <th>kurt</th>\n",
       "      <td>3168.0</td>\n",
       "      <td>36.568461</td>\n",
       "      <td>134.928661</td>\n",
       "      <td>2.068455</td>\n",
       "      <td>5.669547</td>\n",
       "      <td>8.318463</td>\n",
       "      <td>13.648905</td>\n",
       "      <td>1309.612887</td>\n",
       "    </tr>\n",
       "    <tr>\n",
       "      <th>sp.ent</th>\n",
       "      <td>3168.0</td>\n",
       "      <td>0.895127</td>\n",
       "      <td>0.044980</td>\n",
       "      <td>0.738651</td>\n",
       "      <td>0.861811</td>\n",
       "      <td>0.901767</td>\n",
       "      <td>0.928713</td>\n",
       "      <td>0.981997</td>\n",
       "    </tr>\n",
       "    <tr>\n",
       "      <th>sfm</th>\n",
       "      <td>3168.0</td>\n",
       "      <td>0.408216</td>\n",
       "      <td>0.177521</td>\n",
       "      <td>0.036876</td>\n",
       "      <td>0.258041</td>\n",
       "      <td>0.396335</td>\n",
       "      <td>0.533676</td>\n",
       "      <td>0.842936</td>\n",
       "    </tr>\n",
       "    <tr>\n",
       "      <th>mode</th>\n",
       "      <td>3168.0</td>\n",
       "      <td>0.165282</td>\n",
       "      <td>0.077203</td>\n",
       "      <td>0.000000</td>\n",
       "      <td>0.118016</td>\n",
       "      <td>0.186599</td>\n",
       "      <td>0.221104</td>\n",
       "      <td>0.280000</td>\n",
       "    </tr>\n",
       "    <tr>\n",
       "      <th>centroid</th>\n",
       "      <td>3168.0</td>\n",
       "      <td>0.180907</td>\n",
       "      <td>0.029918</td>\n",
       "      <td>0.039363</td>\n",
       "      <td>0.163662</td>\n",
       "      <td>0.184838</td>\n",
       "      <td>0.199146</td>\n",
       "      <td>0.251124</td>\n",
       "    </tr>\n",
       "    <tr>\n",
       "      <th>meanfun</th>\n",
       "      <td>3168.0</td>\n",
       "      <td>0.142807</td>\n",
       "      <td>0.032304</td>\n",
       "      <td>0.055565</td>\n",
       "      <td>0.116998</td>\n",
       "      <td>0.140519</td>\n",
       "      <td>0.169581</td>\n",
       "      <td>0.237636</td>\n",
       "    </tr>\n",
       "    <tr>\n",
       "      <th>minfun</th>\n",
       "      <td>3168.0</td>\n",
       "      <td>0.036802</td>\n",
       "      <td>0.019220</td>\n",
       "      <td>0.009775</td>\n",
       "      <td>0.018223</td>\n",
       "      <td>0.046110</td>\n",
       "      <td>0.047904</td>\n",
       "      <td>0.204082</td>\n",
       "    </tr>\n",
       "    <tr>\n",
       "      <th>maxfun</th>\n",
       "      <td>3168.0</td>\n",
       "      <td>0.258842</td>\n",
       "      <td>0.030077</td>\n",
       "      <td>0.103093</td>\n",
       "      <td>0.253968</td>\n",
       "      <td>0.271186</td>\n",
       "      <td>0.277457</td>\n",
       "      <td>0.279114</td>\n",
       "    </tr>\n",
       "    <tr>\n",
       "      <th>meandom</th>\n",
       "      <td>3168.0</td>\n",
       "      <td>0.829211</td>\n",
       "      <td>0.525205</td>\n",
       "      <td>0.007812</td>\n",
       "      <td>0.419828</td>\n",
       "      <td>0.765795</td>\n",
       "      <td>1.177166</td>\n",
       "      <td>2.957682</td>\n",
       "    </tr>\n",
       "    <tr>\n",
       "      <th>mindom</th>\n",
       "      <td>3168.0</td>\n",
       "      <td>0.052647</td>\n",
       "      <td>0.063299</td>\n",
       "      <td>0.004883</td>\n",
       "      <td>0.007812</td>\n",
       "      <td>0.023438</td>\n",
       "      <td>0.070312</td>\n",
       "      <td>0.458984</td>\n",
       "    </tr>\n",
       "    <tr>\n",
       "      <th>maxdom</th>\n",
       "      <td>3168.0</td>\n",
       "      <td>5.047277</td>\n",
       "      <td>3.521157</td>\n",
       "      <td>0.007812</td>\n",
       "      <td>2.070312</td>\n",
       "      <td>4.992188</td>\n",
       "      <td>7.007812</td>\n",
       "      <td>21.867188</td>\n",
       "    </tr>\n",
       "    <tr>\n",
       "      <th>dfrange</th>\n",
       "      <td>3168.0</td>\n",
       "      <td>4.994630</td>\n",
       "      <td>3.520039</td>\n",
       "      <td>0.000000</td>\n",
       "      <td>2.044922</td>\n",
       "      <td>4.945312</td>\n",
       "      <td>6.992188</td>\n",
       "      <td>21.843750</td>\n",
       "    </tr>\n",
       "    <tr>\n",
       "      <th>modindx</th>\n",
       "      <td>3168.0</td>\n",
       "      <td>0.173752</td>\n",
       "      <td>0.119454</td>\n",
       "      <td>0.000000</td>\n",
       "      <td>0.099766</td>\n",
       "      <td>0.139357</td>\n",
       "      <td>0.209183</td>\n",
       "      <td>0.932374</td>\n",
       "    </tr>\n",
       "  </tbody>\n",
       "</table>\n",
       "</div>"
      ],
      "text/plain": [
       "           count       mean         std       min       25%       50%  \\\n",
       "meanfreq  3168.0   0.180907    0.029918  0.039363  0.163662  0.184838   \n",
       "sd        3168.0   0.057126    0.016652  0.018363  0.041954  0.059155   \n",
       "median    3168.0   0.185621    0.036360  0.010975  0.169593  0.190032   \n",
       "Q25       3168.0   0.140456    0.048680  0.000229  0.111087  0.140286   \n",
       "Q75       3168.0   0.224765    0.023639  0.042946  0.208747  0.225684   \n",
       "IQR       3168.0   0.084309    0.042783  0.014558  0.042560  0.094280   \n",
       "skew      3168.0   3.140168    4.240529  0.141735  1.649569  2.197101   \n",
       "kurt      3168.0  36.568461  134.928661  2.068455  5.669547  8.318463   \n",
       "sp.ent    3168.0   0.895127    0.044980  0.738651  0.861811  0.901767   \n",
       "sfm       3168.0   0.408216    0.177521  0.036876  0.258041  0.396335   \n",
       "mode      3168.0   0.165282    0.077203  0.000000  0.118016  0.186599   \n",
       "centroid  3168.0   0.180907    0.029918  0.039363  0.163662  0.184838   \n",
       "meanfun   3168.0   0.142807    0.032304  0.055565  0.116998  0.140519   \n",
       "minfun    3168.0   0.036802    0.019220  0.009775  0.018223  0.046110   \n",
       "maxfun    3168.0   0.258842    0.030077  0.103093  0.253968  0.271186   \n",
       "meandom   3168.0   0.829211    0.525205  0.007812  0.419828  0.765795   \n",
       "mindom    3168.0   0.052647    0.063299  0.004883  0.007812  0.023438   \n",
       "maxdom    3168.0   5.047277    3.521157  0.007812  2.070312  4.992188   \n",
       "dfrange   3168.0   4.994630    3.520039  0.000000  2.044922  4.945312   \n",
       "modindx   3168.0   0.173752    0.119454  0.000000  0.099766  0.139357   \n",
       "\n",
       "                75%          max  \n",
       "meanfreq   0.199146     0.251124  \n",
       "sd         0.067020     0.115273  \n",
       "median     0.210618     0.261224  \n",
       "Q25        0.175939     0.247347  \n",
       "Q75        0.243660     0.273469  \n",
       "IQR        0.114175     0.252225  \n",
       "skew       2.931694    34.725453  \n",
       "kurt      13.648905  1309.612887  \n",
       "sp.ent     0.928713     0.981997  \n",
       "sfm        0.533676     0.842936  \n",
       "mode       0.221104     0.280000  \n",
       "centroid   0.199146     0.251124  \n",
       "meanfun    0.169581     0.237636  \n",
       "minfun     0.047904     0.204082  \n",
       "maxfun     0.277457     0.279114  \n",
       "meandom    1.177166     2.957682  \n",
       "mindom     0.070312     0.458984  \n",
       "maxdom     7.007812    21.867188  \n",
       "dfrange    6.992188    21.843750  \n",
       "modindx    0.209183     0.932374  "
      ]
     },
     "execution_count": 5,
     "metadata": {},
     "output_type": "execute_result"
    }
   ],
   "source": [
    "data.describe().T"
   ]
  },
  {
   "cell_type": "markdown",
   "metadata": {},
   "source": [
    "### Label encoding "
   ]
  },
  {
   "cell_type": "code",
   "execution_count": 6,
   "metadata": {},
   "outputs": [
    {
     "data": {
      "text/plain": [
       "979     1\n",
       "2277    0\n",
       "755     1\n",
       "1372    1\n",
       "3062    0\n",
       "1467    1\n",
       "2762    0\n",
       "311     1\n",
       "918     1\n",
       "691     1\n",
       "Name: label, dtype: int32"
      ]
     },
     "execution_count": 6,
     "metadata": {},
     "output_type": "execute_result"
    }
   ],
   "source": [
    "from sklearn.preprocessing import LabelEncoder\n",
    "\n",
    "labelEncoder = LabelEncoder()\n",
    "data['label'] = labelEncoder.fit_transform(data['label'].astype(str))\n",
    "\n",
    "data['label'].sample(10)"
   ]
  },
  {
   "cell_type": "code",
   "execution_count": 7,
   "metadata": {},
   "outputs": [
    {
     "data": {
      "text/plain": [
       "<AxesSubplot:title={'center':'meanfreq'}, xlabel='label'>"
      ]
     },
     "execution_count": 7,
     "metadata": {},
     "output_type": "execute_result"
    },
    {
     "data": {
      "image/png": "[encoded data removed]",
      "text/plain": [
       "<Figure size 720x576 with 1 Axes>"
      ]
     },
     "metadata": {
      "needs_background": "light"
     },
     "output_type": "display_data"
    }
   ],
   "source": [
    "data.boxplot(by ='label', column =['meanfreq'], grid = False, figsize=(10, 8))"
   ]
  },
  {
   "cell_type": "code",
   "execution_count": 8,
   "metadata": {},
   "outputs": [
    {
     "data": {
      "text/plain": [
       "<AxesSubplot:title={'center':'dfrange'}, xlabel='label'>"
      ]
     },
     "execution_count": 8,
     "metadata": {},
     "output_type": "execute_result"
    },
    {
     "data": {
      "image/png": "[encoded data removed]",
      "text/plain": [
       "<Figure size 720x576 with 1 Axes>"
      ]
     },
     "metadata": {
      "needs_background": "light"
     },
     "output_type": "display_data"
    }
   ],
   "source": [
    "data.boxplot(by ='label', column =['dfrange'], grid = False, figsize=(10, 8))"
   ]
  },
  {
   "cell_type": "markdown",
   "metadata": {},
   "source": [
    "### Spilting the data into train and test data"
   ]
  },
  {
   "cell_type": "code",
   "execution_count": 9,
   "metadata": {},
   "outputs": [],
   "source": [
    "from sklearn.model_selection import train_test_split\n",
    "\n",
    "features = data.drop('label', axis=1)\n",
    "target = data['label']\n",
    "\n",
    "x_train, x_test, y_train, y_test = train_test_split(features, target, test_size=0.2) "
   ]
  },
  {
   "cell_type": "code",
   "execution_count": 10,
   "metadata": {},
   "outputs": [
    {
     "data": {
      "text/plain": [
       "((2534, 20), (2534,))"
      ]
     },
     "execution_count": 10,
     "metadata": {},
     "output_type": "execute_result"
    }
   ],
   "source": [
    "x_train.shape , y_train.shape"
   ]
  },
  {
   "cell_type": "code",
   "execution_count": 11,
   "metadata": {},
   "outputs": [
    {
     "data": {
      "text/plain": [
       "((634, 20), (634,))"
      ]
     },
     "execution_count": 11,
     "metadata": {},
     "output_type": "execute_result"
    }
   ],
   "source": [
    "x_test.shape , y_test.shape "
   ]
  },
  {
   "cell_type": "markdown",
   "metadata": {},
   "source": [
    "### Logistic Regression Classifier\n",
    "https://scikit-learn.org/stable/modules/generated/sklearn.linear_model.LogisticRegression.html\n"
   ]
  },
  {
   "cell_type": "code",
   "execution_count": 12,
   "metadata": {},
   "outputs": [
    {
     "data": {
      "text/plain": [
       "LogisticRegression(solver='liblinear')"
      ]
     },
     "execution_count": 12,
     "metadata": {},
     "output_type": "execute_result"
    }
   ],
   "source": [
    "from sklearn.linear_model import LogisticRegression\n",
    "from sklearn.metrics import confusion_matrix\n",
    "\n",
    "logistic_model = LogisticRegression(penalty='l2', solver='liblinear')\n",
    "\n",
    "logistic_model.fit(x_train, y_train)"
   ]
  },
  {
   "cell_type": "code",
   "execution_count": 13,
   "metadata": {},
   "outputs": [],
   "source": [
    "y_pred = logistic_model.predict(x_test)"
   ]
  },
  {
   "cell_type": "code",
   "execution_count": 14,
   "metadata": {},
   "outputs": [
    {
     "name": "stdout",
     "output_type": "stream",
     "text": [
      "[[255  40]\n",
      " [  8 331]]\n"
     ]
    }
   ],
   "source": [
    "confusion_matrix = confusion_matrix(y_test, y_pred)\n",
    "\n",
    "print(confusion_matrix)"
   ]
  },
  {
   "cell_type": "code",
   "execution_count": 15,
   "metadata": {},
   "outputs": [
    {
     "name": "stdout",
     "output_type": "stream",
     "text": [
      "Training score :  0.9080505130228888\n"
     ]
    }
   ],
   "source": [
    "print(\"Training score : \", logistic_model.score(x_train, y_train))"
   ]
  },
  {
   "cell_type": "markdown",
   "metadata": {},
   "source": [
    "### Accuracy, precision, recall scores"
   ]
  },
  {
   "cell_type": "code",
   "execution_count": 16,
   "metadata": {},
   "outputs": [
    {
     "name": "stdout",
     "output_type": "stream",
     "text": [
      "Accuracy :  0.9242902208201893\n",
      "Precision Score :  0.8921832884097035\n",
      "Recall Score :  0.976401179941003\n"
     ]
    }
   ],
   "source": [
    "from sklearn.metrics import accuracy_score, precision_score, recall_score\n",
    "\n",
    "acc = accuracy_score(y_test, y_pred)\n",
    "pre = precision_score(y_test, y_pred)\n",
    "recall = recall_score(y_test, y_pred)\n",
    "\n",
    "print('Accuracy : ' , acc)\n",
    "print('Precision Score : ', pre)\n",
    "print('Recall Score : ', recall)"
   ]
  },
  {
   "cell_type": "code",
   "execution_count": 17,
   "metadata": {},
   "outputs": [],
   "source": [
    "from yellowbrick.target import FeatureCorrelation\n",
    "\n",
    "feature_names = list(features.columns)"
   ]
  },
  {
   "cell_type": "code",
   "execution_count": 18,
   "metadata": {},
   "outputs": [
    {
     "name": "stderr",
     "output_type": "stream",
     "text": [
      "D:\\ProgramData\\Anaconda3\\lib\\site-packages\\sklearn\\base.py:209: FutureWarning: From version 0.24, get_params will raise an AttributeError if a parameter cannot be retrieved as an instance attribute. Previously it would return None.\n",
      "  warnings.warn('From version 0.24, get_params will raise an '\n"
     ]
    },
    {
     "data": {
      "image/png": "[encoded data removed]",
      "text/plain": [
       "<Figure size 576x396 with 1 Axes>"
      ]
     },
     "metadata": {},
     "output_type": "display_data"
    },
    {
     "data": {
      "text/plain": [
       "<AxesSubplot:title={'center':'Features correlation with dependent variable'}, xlabel='Pearson Correlation'>"
      ]
     },
     "execution_count": 18,
     "metadata": {},
     "output_type": "execute_result"
    }
   ],
   "source": [
    "visualizer = FeatureCorrelation(labels = feature_names)\n",
    "\n",
    "visualizer.fit(features, target)\n",
    "\n",
    "visualizer.poof()"
   ]
  },
  {
   "cell_type": "code",
   "execution_count": 19,
   "metadata": {},
   "outputs": [],
   "source": [
    "from sklearn.feature_selection import chi2, f_classif, mutual_info_classif\n",
    "from sklearn.feature_selection import SelectKBest"
   ]
  },
  {
   "cell_type": "code",
   "execution_count": 20,
   "metadata": {},
   "outputs": [],
   "source": [
    "## TODO: While recording, re-record from here first with chi2, then with f_classif and then with mutual_info_classif\n",
    "\n",
    "select_univariate = SelectKBest(chi2, k=4).fit(features, target)"
   ]
  },
  {
   "cell_type": "code",
   "execution_count": 21,
   "metadata": {},
   "outputs": [
    {
     "data": {
      "text/plain": [
       "array([False, False, False, False, False, False, False,  True, False,\n",
       "       False, False, False, False, False, False,  True, False,  True,\n",
       "        True, False])"
      ]
     },
     "execution_count": 21,
     "metadata": {},
     "output_type": "execute_result"
    }
   ],
   "source": [
    "features_mask = select_univariate.get_support()\n",
    "\n",
    "features_mask"
   ]
  },
  {
   "cell_type": "code",
   "execution_count": 22,
   "metadata": {},
   "outputs": [
    {
     "data": {
      "text/plain": [
       "Index(['kurt', 'meandom', 'maxdom', 'dfrange'], dtype='object')"
      ]
     },
     "execution_count": 22,
     "metadata": {},
     "output_type": "execute_result"
    }
   ],
   "source": [
    "selected_columns = features.columns[features_mask]\n",
    "\n",
    "selected_columns"
   ]
  },
  {
   "cell_type": "code",
   "execution_count": 23,
   "metadata": {},
   "outputs": [
    {
     "data": {
      "text/html": [
       "<div>\n",
       "<style scoped>\n",
       "    .dataframe tbody tr th:only-of-type {\n",
       "        vertical-align: middle;\n",
       "    }\n",
       "\n",
       "    .dataframe tbody tr th {\n",
       "        vertical-align: top;\n",
       "    }\n",
       "\n",
       "    .dataframe thead th {\n",
       "        text-align: right;\n",
       "    }\n",
       "</style>\n",
       "<table border=\"1\" class=\"dataframe\">\n",
       "  <thead>\n",
       "    <tr style=\"text-align: right;\">\n",
       "      <th></th>\n",
       "      <th>kurt</th>\n",
       "      <th>meandom</th>\n",
       "      <th>maxdom</th>\n",
       "      <th>dfrange</th>\n",
       "    </tr>\n",
       "  </thead>\n",
       "  <tbody>\n",
       "    <tr>\n",
       "      <th>0</th>\n",
       "      <td>274.402906</td>\n",
       "      <td>0.007812</td>\n",
       "      <td>0.007812</td>\n",
       "      <td>0.000000</td>\n",
       "    </tr>\n",
       "    <tr>\n",
       "      <th>1</th>\n",
       "      <td>634.613855</td>\n",
       "      <td>0.009014</td>\n",
       "      <td>0.054688</td>\n",
       "      <td>0.046875</td>\n",
       "    </tr>\n",
       "    <tr>\n",
       "      <th>2</th>\n",
       "      <td>1024.927705</td>\n",
       "      <td>0.007990</td>\n",
       "      <td>0.015625</td>\n",
       "      <td>0.007812</td>\n",
       "    </tr>\n",
       "    <tr>\n",
       "      <th>3</th>\n",
       "      <td>4.177296</td>\n",
       "      <td>0.201497</td>\n",
       "      <td>0.562500</td>\n",
       "      <td>0.554688</td>\n",
       "    </tr>\n",
       "    <tr>\n",
       "      <th>4</th>\n",
       "      <td>4.333713</td>\n",
       "      <td>0.712812</td>\n",
       "      <td>5.484375</td>\n",
       "      <td>5.476562</td>\n",
       "    </tr>\n",
       "  </tbody>\n",
       "</table>\n",
       "</div>"
      ],
      "text/plain": [
       "          kurt   meandom    maxdom   dfrange\n",
       "0   274.402906  0.007812  0.007812  0.000000\n",
       "1   634.613855  0.009014  0.054688  0.046875\n",
       "2  1024.927705  0.007990  0.015625  0.007812\n",
       "3     4.177296  0.201497  0.562500  0.554688\n",
       "4     4.333713  0.712812  5.484375  5.476562"
      ]
     },
     "execution_count": 23,
     "metadata": {},
     "output_type": "execute_result"
    }
   ],
   "source": [
    "selected_features = features[selected_columns]\n",
    "\n",
    "selected_features.head()"
   ]
  },
  {
   "cell_type": "code",
   "execution_count": 24,
   "metadata": {},
   "outputs": [],
   "source": [
    "x_train, x_test, y_train, y_test = train_test_split(selected_features, target, test_size =.2)"
   ]
  },
  {
   "cell_type": "code",
   "execution_count": 25,
   "metadata": {},
   "outputs": [
    {
     "data": {
      "text/plain": [
       "LogisticRegression(solver='liblinear')"
      ]
     },
     "execution_count": 25,
     "metadata": {},
     "output_type": "execute_result"
    }
   ],
   "source": [
    "from sklearn.linear_model import LogisticRegression\n",
    "\n",
    "logistic_model = LogisticRegression(penalty='l2', solver='liblinear')\n",
    "logistic_model.fit(x_train, y_train)"
   ]
  },
  {
   "cell_type": "code",
   "execution_count": 26,
   "metadata": {},
   "outputs": [],
   "source": [
    "y_pred = logistic_model.predict(x_test)"
   ]
  },
  {
   "cell_type": "code",
   "execution_count": 27,
   "metadata": {},
   "outputs": [
    {
     "name": "stdout",
     "output_type": "stream",
     "text": [
      "Accuracy :  0.6182965299684543\n",
      "Precision Score :  0.6295081967213115\n",
      "Recall Score :  0.5981308411214953\n"
     ]
    }
   ],
   "source": [
    "acc = accuracy_score(y_test, y_pred)\n",
    "pre = precision_score(y_test, y_pred)\n",
    "recall = recall_score(y_test, y_pred)\n",
    "\n",
    "print('Accuracy : ' , acc)\n",
    "print('Precision Score : ', pre)\n",
    "print('Recall Score : ', recall)"
   ]
  },
  {
   "cell_type": "code",
   "execution_count": null,
   "metadata": {},
   "outputs": [],
   "source": []
  }
 ],
 "metadata": {
  "kernelspec": {
   "display_name": "Python 3",
   "language": "python",
   "name": "python3"
  },
  "language_info": {
   "codemirror_mode": {
    "name": "ipython",
    "version": 3
   },
   "file_extension": ".py",
   "mimetype": "text/x-python",
   "name": "python",
   "nbconvert_exporter": "python",
   "pygments_lexer": "ipython3",
   "version": "3.8.5"
  }
 },
 "nbformat": 4,
 "nbformat_minor": 2
}
